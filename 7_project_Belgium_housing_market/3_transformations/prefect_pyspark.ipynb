{
 "cells": [
  {
   "cell_type": "code",
   "execution_count": 1,
   "id": "abd1a0b6",
   "metadata": {},
   "outputs": [],
   "source": [
    "import pyspark\n",
    "from pyspark.sql import SparkSession\n",
    "import pandas as pd\n",
    "from pyspark.sql import types\n",
    "from pyspark.sql import functions as F"
   ]
  },
  {
   "cell_type": "code",
   "execution_count": 2,
   "id": "0841b152",
   "metadata": {},
   "outputs": [
    {
     "name": "stderr",
     "output_type": "stream",
     "text": [
      "Setting default log level to \"WARN\".\n",
      "To adjust logging level use sc.setLogLevel(newLevel). For SparkR, use setLogLevel(newLevel).\n"
     ]
    },
    {
     "name": "stdout",
     "output_type": "stream",
     "text": [
      "23/04/13 19:20:14 WARN NativeCodeLoader: Unable to load native-hadoop library for your platform... using builtin-java classes where applicable\n"
     ]
    }
   ],
   "source": [
    "spark = SparkSession.builder \\\n",
    "        .master(\"local[*]\") \\\n",
    "        .appName(\"belgian_housing_buy_lease\") \\\n",
    "        .getOrCreate()"
   ]
  },
  {
   "cell_type": "code",
   "execution_count": 3,
   "id": "22abd8c9",
   "metadata": {
    "scrolled": false
   },
   "outputs": [
    {
     "name": "stderr",
     "output_type": "stream",
     "text": [
      "/home/daniel_gheorghita/anaconda3/envs/dezoomcamp/lib/python3.9/site-packages/google/cloud/bigquery/table.py:2083: UserWarning: A progress bar was requested, but there was an error loading the tqdm library. Please install tqdm to use the progress bar functionality.\n",
      "  record_batch = self.to_arrow(\n",
      "/home/daniel_gheorghita/anaconda3/envs/dezoomcamp/lib/python3.9/site-packages/pyspark/sql/pandas/conversion.py:371: FutureWarning: iteritems is deprecated and will be removed in a future version. Use .items instead.\n",
      "  for column, series in pdf.iteritems():\n"
     ]
    },
    {
     "name": "stdout",
     "output_type": "stream",
     "text": [
      "root\n",
      " |-- Unnamed: 0: struct (nullable = true)\n",
      " |-- NISCode: long (nullable = true)\n",
      " |-- NameFre: string (nullable = true)\n",
      " |-- NameDut: string (nullable = true)\n",
      " |-- NameGer: string (nullable = true)\n",
      " |-- RegistrationType: string (nullable = true)\n",
      " |-- LessorType: string (nullable = true)\n",
      " |-- TakerType: string (nullable = true)\n",
      " |-- RentsNumber: double (nullable = true)\n",
      " |-- RentP25: double (nullable = true)\n",
      " |-- RentP50: double (nullable = true)\n",
      " |-- RentP75: double (nullable = true)\n",
      " |-- ChargesP25: double (nullable = true)\n",
      " |-- ChargesP50: double (nullable = true)\n",
      " |-- ChargesP75: double (nullable = true)\n",
      " |-- TotalRentP25: double (nullable = true)\n",
      " |-- TotalRentP50: double (nullable = true)\n",
      " |-- TotalRentP75: double (nullable = true)\n",
      " |-- Date: timestamp (nullable = true)\n",
      "\n"
     ]
    },
    {
     "name": "stderr",
     "output_type": "stream",
     "text": [
      "\r",
      "[Stage 0:>                                                          (0 + 1) / 1]\r"
     ]
    },
    {
     "name": "stdout",
     "output_type": "stream",
     "text": [
      "+----------+-------+---------------+------------+------------------+--------------------+-------------+-------------+-----------+------------+------------+--------+----------+------------+------------+------------+------------+------------+-------------------+\n",
      "|Unnamed: 0|NISCode|        NameFre|     NameDut|           NameGer|    RegistrationType|   LessorType|    TakerType|RentsNumber|     RentP25|     RentP50| RentP75|ChargesP25|  ChargesP50|  ChargesP75|TotalRentP25|TotalRentP50|TotalRentP75|               Date|\n",
      "+----------+-------+---------------+------------+------------------+--------------------+-------------+-------------+-----------+------------+------------+--------+----------+------------+------------+------------+------------+------------+-------------------+\n",
      "|        {}|   3000|Région wallonne|Waals Gewest|Wallonische Region| GeneralRegistration|  LegalPerson|  LegalPerson|      768.0|       700.0|      1750.0|  4000.0|       0.0|62.666666667|       295.0|       750.0|      1875.0|      4375.0|2017-03-31 00:00:00|\n",
      "|        {}|   3000|Région wallonne|Waals Gewest|Wallonische Region| GeneralRegistration|  LegalPerson|        Mixed|        8.0|      918.74|     1630.84|  2622.0|    65.314|     193.084|       393.3|     970.614|    1823.924|      3015.3|2017-03-31 00:00:00|\n",
      "|        {}|   3000|Région wallonne|Waals Gewest|Wallonische Region| GeneralRegistration|  LegalPerson|NaturalPerson|      281.0|       42.76|       375.0|   940.0|       0.0|         0.0|       100.0|       42.76|       400.0|      1050.0|2017-03-31 00:00:00|\n",
      "|        {}|   3000|Région wallonne|Waals Gewest|Wallonische Region| GeneralRegistration|        Mixed|  LegalPerson|        8.0|      187.92|      1000.0|  3000.0|       0.0|         4.0|183.33333333|      187.92|      1250.0|      3000.0|2017-03-31 00:00:00|\n",
      "|        {}|   3000|Région wallonne|Waals Gewest|Wallonische Region| GeneralRegistration|NaturalPerson|  LegalPerson|      824.0|       175.0|       400.0|   750.0|       0.0|        12.5|        75.0|199.83333333|       450.0|       840.0|2017-03-31 00:00:00|\n",
      "|        {}|   3000|Région wallonne|Waals Gewest|Wallonische Region| GeneralRegistration|NaturalPerson|NaturalPerson|      410.0|       150.0|       500.0|   950.0|       0.0|         0.0|        95.0|       150.0|       600.0|      1000.0|2017-03-31 00:00:00|\n",
      "|        {}|   3000|Région wallonne|Waals Gewest|Wallonische Region| HousingRegistration|  LegalPerson|  LegalPerson|       23.0|       650.0|       892.5|  1650.0|       0.0|         0.0|        50.0|       660.0|       942.5|      1850.0|2017-03-31 00:00:00|\n",
      "|        {}|   3000|Région wallonne|Waals Gewest|Wallonische Region| HousingRegistration|  LegalPerson|NaturalPerson|     1959.0|      439.56|       550.0|   680.0|       0.0|         0.0|        50.0|       458.0|       580.0|       720.0|2017-03-31 00:00:00|\n",
      "|        {}|   3000|Région wallonne|Waals Gewest|Wallonische Region| HousingRegistration|        Mixed|NaturalPerson|      106.0|       400.0|      475.75|   575.0|       0.0|        15.0|        43.6|       428.0|     505.175|       610.0|2017-03-31 00:00:00|\n",
      "|        {}|   3000|Région wallonne|Waals Gewest|Wallonische Region| HousingRegistration|NaturalPerson|  LegalPerson|       41.0|       250.0|       450.0|   675.0|       0.0|         0.0|        65.0|      259.36|       490.0|       700.0|2017-03-31 00:00:00|\n",
      "|        {}|   3000|Région wallonne|Waals Gewest|Wallonische Region| HousingRegistration|NaturalPerson|        Mixed|        6.0|       450.0|       825.0|  1000.0|       0.0|        67.5|       150.0|       500.0|       945.0|      1000.0|2017-03-31 00:00:00|\n",
      "|        {}|   3000|Région wallonne|Waals Gewest|Wallonische Region| HousingRegistration|NaturalPerson|NaturalPerson|    11834.0|       490.0|       595.0|   700.0|       0.0|         0.0|        30.0|       500.0|       600.0|       735.0|2017-03-31 00:00:00|\n",
      "|        {}|   3000|Région wallonne|Waals Gewest|Wallonische Region|HuntingFishingReg...|  LegalPerson|NaturalPerson|       49.0|36.161666667|324.60916667|58900.52|       0.0|         0.0|         0.0|36.161666667|324.60916667|    58900.52|2017-03-31 00:00:00|\n",
      "|        {}|   3000|Région wallonne|Waals Gewest|Wallonische Region|HuntingFishingReg...|NaturalPerson|NaturalPerson|       15.0|3.3333333333|       51.25|    75.0|       0.0|         0.0|         0.0|3.3333333333|       51.25|        75.0|2017-03-31 00:00:00|\n",
      "|        {}|   3000|Région wallonne|Waals Gewest|Wallonische Region|PublicServiceRegi...|  LegalPerson|  LegalPerson|       31.0|       300.0|       675.0|  2050.0|       0.0|         0.0|         0.0|       375.0|       750.0|      2050.0|2017-03-31 00:00:00|\n",
      "|        {}|   3000|Région wallonne|Waals Gewest|Wallonische Region|PublicServiceRegi...|  LegalPerson|NaturalPerson|        8.0|     175.435|       300.0|   350.0|      37.5|        75.0|        75.0|     212.935|       375.0|       425.0|2017-03-31 00:00:00|\n",
      "|        {}|   3000|Région wallonne|Waals Gewest|Wallonische Region|PublicServiceRegi...|NaturalPerson|  LegalPerson|        5.0|       475.0|       750.0|   900.0|       0.0|        25.0|33.333333333|       500.0|933.33333333|      1000.0|2017-03-31 00:00:00|\n",
      "|        {}|   3000|Région wallonne|Waals Gewest|Wallonische Region| GeneralRegistration|  LegalPerson|  LegalPerson|      567.0|       750.0|      1562.5|  3870.0|       0.0|      22.992|       250.0|       786.5|     1706.25|4166.6666667|2016-12-31 00:00:00|\n",
      "|        {}|   3000|Région wallonne|Waals Gewest|Wallonische Region| GeneralRegistration|  LegalPerson|NaturalPerson|      251.0|        55.0|       400.0|   898.5|       0.0|         0.0|        40.0|59.253333333|       420.0|      1000.0|2016-12-31 00:00:00|\n",
      "|        {}|   3000|Région wallonne|Waals Gewest|Wallonische Region| GeneralRegistration|        Mixed|  LegalPerson|        5.0|      1000.0|      1000.0|  5591.0|       0.0|         0.0|         0.0|      1000.0|      1000.0|      5591.0|2016-12-31 00:00:00|\n",
      "+----------+-------+---------------+------------+------------------+--------------------+-------------+-------------+-----------+------------+------------+--------+----------+------------+------------+------------+------------+------------+-------------------+\n",
      "only showing top 20 rows\n",
      "\n"
     ]
    },
    {
     "name": "stderr",
     "output_type": "stream",
     "text": [
      "\r",
      "                                                                                \r"
     ]
    }
   ],
   "source": [
    "from pyspark.sql import SparkSession\n",
    "from prefect_gcp import GcpCredentials\n",
    "import pandas as pd\n",
    "import pandas_gbq as pdbq\n",
    "gcp_credentials_block = await GcpCredentials.load(\"belgium-housing-gcp-cred\")\n",
    "#Create PySpark SparkSession\n",
    "spark = SparkSession.builder \\\n",
    "    .master(\"local[1]\") \\\n",
    "    .appName(\"SparkByExamples.com\") \\\n",
    "    .getOrCreate()\n",
    "\n"
   ]
  },
  {
   "cell_type": "code",
   "execution_count": 54,
   "id": "5e199e2d",
   "metadata": {
    "scrolled": false
   },
   "outputs": [
    {
     "name": "stdout",
     "output_type": "stream",
     "text": [
      "MunicipalityWideRealEstate\n"
     ]
    },
    {
     "name": "stderr",
     "output_type": "stream",
     "text": [
      "/home/daniel_gheorghita/anaconda3/envs/dezoomcamp/lib/python3.9/site-packages/google/cloud/bigquery/table.py:2083: UserWarning: A progress bar was requested, but there was an error loading the tqdm library. Please install tqdm to use the progress bar functionality.\n",
      "  record_batch = self.to_arrow(\n",
      "/home/daniel_gheorghita/anaconda3/envs/dezoomcamp/lib/python3.9/site-packages/google/cloud/bigquery/table.py:2083: UserWarning: A progress bar was requested, but there was an error loading the tqdm library. Please install tqdm to use the progress bar functionality.\n",
      "  record_batch = self.to_arrow(\n",
      "/home/daniel_gheorghita/anaconda3/envs/dezoomcamp/lib/python3.9/site-packages/pyspark/sql/pandas/conversion.py:371: FutureWarning: iteritems is deprecated and will be removed in a future version. Use .items instead.\n",
      "  for column, series in pdf.iteritems():\n"
     ]
    },
    {
     "name": "stdout",
     "output_type": "stream",
     "text": [
      "23/04/14 22:06:47 WARN TaskSetManager: Stage 109 contains a task of very large size (1164 KiB). The maximum recommended task size is 1000 KiB.\n",
      "+-------+-------------------+------------------+-----------+----------+--------+-------------+----------+----------+------------------+\n",
      "|NISCode|               Date|           RentP50|RentsNumber|   NameFre|PriceP50|ParcelsNumber|   NameDut|   NameGer|  PriceToRentRatio|\n",
      "+-------+-------------------+------------------+-----------+----------+--------+-------------+----------+----------+------------------+\n",
      "|  11001|2016-03-31 00:00:00|          1385.375|       60.0|Aartselaar|300000.0|         26.0|Aartselaar|Aartselaar|216.54786610123614|\n",
      "|  11001|2016-06-30 00:00:00| 658.3333333333334|       35.0|Aartselaar|337000.0|         26.0|Aartselaar|Aartselaar|511.89873417721515|\n",
      "|  11001|2016-09-30 00:00:00|            2242.5|       66.0|Aartselaar|305000.0|         31.0|Aartselaar|Aartselaar|136.00891861761426|\n",
      "|  11001|2016-12-31 00:00:00| 881.6666666666666|       60.0|Aartselaar|290000.0|         29.0|Aartselaar|Aartselaar| 328.9224952741021|\n",
      "|  11001|2017-03-31 00:00:00|            1180.0|       53.0|Aartselaar|325000.0|         39.0|Aartselaar|Aartselaar| 275.4237288135593|\n",
      "|  11001|2017-06-30 00:00:00|     1358.33333335|       37.0|Aartselaar|307500.0|         35.0|Aartselaar|Aartselaar|226.38036809538184|\n",
      "|  11001|2017-09-30 00:00:00|1281.6666666666667|       63.0|Aartselaar|265000.0|         26.0|Aartselaar|Aartselaar|206.76202860858257|\n",
      "|  11001|2017-12-31 00:00:00|            1127.5|       45.0|Aartselaar|318000.0|         40.0|Aartselaar|Aartselaar|  282.039911308204|\n",
      "|  11001|2018-03-31 00:00:00|          948.8125|       59.0|Aartselaar|335000.0|         44.0|Aartselaar|Aartselaar| 353.0729200974903|\n",
      "|  11001|2018-06-30 00:00:00|     1534.16666665|       48.0|Aartselaar|345000.0|         37.0|Aartselaar|Aartselaar|224.87778381558803|\n",
      "|  11001|2018-09-30 00:00:00|            3076.0|       32.0|Aartselaar|307500.0|         41.0|Aartselaar|Aartselaar| 99.96749024707412|\n",
      "|  11001|2018-12-31 00:00:00| 777.0833333324999|       64.0|Aartselaar|287000.0|         37.0|Aartselaar|Aartselaar|369.32975871353284|\n",
      "|  11001|2019-03-31 00:00:00|          1590.125|       57.0|Aartselaar|325000.0|         43.0|Aartselaar|Aartselaar|204.38644760632025|\n",
      "|  11001|2019-06-30 00:00:00|     482.083333335|       58.0|Aartselaar|315000.0|         30.0|Aartselaar|Aartselaar| 653.4140017263494|\n",
      "|  11001|2019-09-30 00:00:00|            965.29|       61.0|Aartselaar|310000.0|         27.0|Aartselaar|Aartselaar|321.14701281480177|\n",
      "|  11001|2019-12-31 00:00:00|1064.2222222333332|       60.0|Aartselaar|327500.0|         74.0|Aartselaar|Aartselaar| 307.7364794288188|\n",
      "|  11001|2020-03-31 00:00:00|          1467.545|       62.0|Aartselaar|317500.0|         16.0|Aartselaar|Aartselaar|216.34770995097253|\n",
      "|  11001|2020-06-30 00:00:00|            1176.0|       42.0|Aartselaar|306000.0|         26.0|Aartselaar|Aartselaar| 260.2040816326531|\n",
      "|  11001|2020-09-30 00:00:00|             741.5|       83.0|Aartselaar|380000.0|         27.0|Aartselaar|Aartselaar| 512.4747134187458|\n",
      "|  11001|2020-12-31 00:00:00|1348.3333333333333|       59.0|Aartselaar|400000.0|         52.0|Aartselaar|Aartselaar| 296.6625463535229|\n",
      "+-------+-------------------+------------------+-----------+----------+--------+-------------+----------+----------+------------------+\n",
      "only showing top 20 rows\n",
      "\n",
      "23/04/14 22:06:48 WARN TaskSetManager: Stage 115 contains a task of very large size (1164 KiB). The maximum recommended task size is 1000 KiB.\n"
     ]
    },
    {
     "name": "stderr",
     "output_type": "stream",
     "text": [
      "/home/daniel_gheorghita/anaconda3/envs/dezoomcamp/lib/python3.9/site-packages/pyspark/sql/pandas/conversion.py:194: FutureWarning: Passing unit-less datetime64 dtype to .astype is deprecated and will raise in a future version. Pass 'datetime64[ns]' instead\n",
      "  series = series.astype(t, copy=False)\n"
     ]
    }
   ],
   "source": [
    "files = [    'ArrondissementWideRealEstate',\n",
    "             'MunicipalityWideRealEstate',\n",
    "             'NationalWideRealEstate',\n",
    "             'ProvincialWideRealEstate',\n",
    "             'RegionalWideRealEstate',\n",
    "             'StatisticalUnitWideRealEstateTransactions',\n",
    "             'DivisionWideRealEstateTransactions',\n",
    "             ]\n",
    "\n",
    "for file in [files[1]]:\n",
    "    print(file)\n",
    "    leases_df = pdbq.read_gbq(query_or_table=f'belgium_housing_leases.{file}Rents_all',\n",
    "                       project_id='belgium-housing-market',\n",
    "                      credentials=gcp_credentials_block.get_credentials_from_service_account())\n",
    "    leases_df = leases_df.drop_duplicates()\n",
    "    #print(leases_df.describe())\n",
    "    #print(leases_df.head())\n",
    "    #print(leases_df['NISCode'].value_counts())\n",
    "    #file = 'DivisionWideRealEstate'\n",
    "    transactions_df = pdbq.read_gbq(query_or_table=f'belgium_housing_transactions.{file}Transactions_all',\n",
    "                       project_id='belgium-housing-market',\n",
    "                      credentials=gcp_credentials_block.get_credentials_from_service_account())\n",
    "    transactions_df = transactions_df.drop_duplicates()\n",
    "    #print(transactions_df.describe())\n",
    "    #print(transactions_df.head())\n",
    "    #print(transactions_df['NISCode'].value_counts())\n",
    "\n",
    "    #Create PySpark DataFrame from Pandas\n",
    "    leases_psdf = spark.createDataFrame(leases_df) \n",
    "    transactions_psdf = spark.createDataFrame(transactions_df)\n",
    "    \n",
    "    # Print schemas\n",
    "    #leases_psdf.printSchema()\n",
    "    #transactions_psdf.printSchema()\n",
    "    \n",
    "    # Select certain columns\n",
    "    leases_psdf = leases_psdf.select(\"NISCode\", \"NameFre\", \"NameDut\", \"NameGer\", \"RentP50\", \"Date\", \"RentsNumber\")\n",
    "    transactions_psdf = transactions_psdf.select(\"NISCode\", \"NameFre\", \"NameDut\", \"NameGer\", \"PriceP50\", \"Date\", \"ParcelsNumber\")\n",
    "    \n",
    "    # Print schemas\n",
    "    #leases_psdf.printSchema()\n",
    "    #transactions_psdf.printSchema()\n",
    "    \n",
    "    # Means\n",
    "    leases_psdf = \\\n",
    "    leases_psdf \\\n",
    "        .groupBy(\"NISCode\", \"Date\") \\\n",
    "        .agg(F.avg(\"RentP50\").alias(\"RentP50\"), \\\n",
    "             F.sum(\"RentsNumber\").alias(\"RentsNumber\"),\\\n",
    "             F.first(\"NameFre\").alias(\"NameFre\")) \\\n",
    "        #.filter(F.col(\"NISCode\")==71002) \\\n",
    "        #.sort(\"Date\") \\\n",
    "        #.show(truncate=False)\n",
    "    \n",
    "    transactions_psdf = \\\n",
    "        transactions_psdf \\\n",
    "            .groupBy(\"NISCode\", \"Date\") \\\n",
    "            .agg(F.avg(\"PriceP50\").alias(\"PriceP50\"), \\\n",
    "                 F.sum(\"ParcelsNumber\").alias(\"ParcelsNumber\"),\\\n",
    "                 F.first(\"NameDut\").alias(\"NameDut\"),\\\n",
    "                 F.first(\"NameGer\").alias(\"NameGer\")) \\\n",
    "        #.filter(F.col(\"NISCode\")==71002) \\\n",
    "        #.sort(\"Date\") \\\n",
    "        #.show(truncate=False)\n",
    "\n",
    "    # PySpark join multiple columns\n",
    "    transactions_and_leases_psdf = \\\n",
    "        leases_psdf \\\n",
    "            .join(transactions_psdf, [\"NISCode\",\"Date\"],\"inner\") \\\n",
    "            .sort(\"NISCode\", \"Date\") \\\n",
    "            #.show()\n",
    "    \n",
    "    # Add column ratio price/rent\n",
    "    transactions_and_leases_psdf = transactions_and_leases_psdf.withColumn('PriceToRentRatio',\n",
    "                       transactions_and_leases_psdf[\"PriceP50\"] / transactions_and_leases_psdf[\"RentP50\"])\n",
    "    transactions_and_leases_psdf.show()\n",
    "    \n",
    "    #sparkDF.show()\n",
    "    \n",
    "    # PySpark to Pandas DF\n",
    "    transactions_and_leases_df = transactions_and_leases_psdf.toPandas()\n",
    "    \n",
    "    # Upload Pandas df to BQ\n",
    "    transactions_and_leases_df.to_gbq(\n",
    "            destination_table=f\"belgium_housing_transactions_rents.{file}\",\n",
    "            project_id=\"belgium-housing-market\",\n",
    "            credentials=gcp_credentials_block.get_credentials_from_service_account(),\n",
    "            chunksize=500000,\n",
    "            if_exists=\"replace\")\n",
    "    "
   ]
  },
  {
   "cell_type": "code",
   "execution_count": null,
   "id": "35342a65",
   "metadata": {},
   "outputs": [],
   "source": []
  }
 ],
 "metadata": {
  "kernelspec": {
   "display_name": "Python 3 (ipykernel)",
   "language": "python",
   "name": "python3"
  },
  "language_info": {
   "codemirror_mode": {
    "name": "ipython",
    "version": 3
   },
   "file_extension": ".py",
   "mimetype": "text/x-python",
   "name": "python",
   "nbconvert_exporter": "python",
   "pygments_lexer": "ipython3",
   "version": "3.9.0"
  }
 },
 "nbformat": 4,
 "nbformat_minor": 5
}
